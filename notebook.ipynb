{
 "cells": [
  {
   "cell_type": "code",
   "execution_count": null,
   "id": "initial_id",
   "metadata": {
    "collapsed": true
   },
   "outputs": [],
   "source": [
    "import pandas as pd\n",
    "import matplotlib.pyplot as plt\n",
    "import seaborn as sns"
   ]
  },
  {
   "cell_type": "code",
   "outputs": [],
   "source": [
    "# Load the Excel file into a Pandas DataFrame\n",
    "file_path = 'estudantes.xlsx'\n",
    "df = pd.read_excel(file_path)"
   ],
   "metadata": {
    "collapsed": false,
    "ExecuteTime": {
     "end_time": "2024-02-04T15:01:06.934815Z",
     "start_time": "2024-02-04T15:01:06.607599Z"
    }
   },
   "id": "21ec78b4d521d636",
   "execution_count": 4
  },
  {
   "cell_type": "code",
   "outputs": [
    {
     "name": "stdout",
     "output_type": "stream",
     "text": [
      "Sample of the dataset:\n"
     ]
    },
    {
     "data": {
      "text/plain": "   ano_letivo  ano_curricular      nuts_II   nivel_ensino          curso  \\\n0        2008               1  A.M. Lisboa  Ensino básico  Cursos gerais   \n1        2008               1  A.M. Lisboa  Ensino básico  Cursos gerais   \n2        2008               1  A.M. Lisboa  Ensino básico  Cursos gerais   \n3        2008               1  A.M. Lisboa  Ensino básico  Cursos gerais   \n4        2008               1  A.M. Lisboa  Ensino básico  Cursos gerais   \n\n     setor resultado  #estudantes  \n0  Privado  abandona         1032  \n1  Privado    retido           43  \n2  Privado  transita         5303  \n3  Público  abandona         1773  \n4  Público    retido          280  ",
      "text/html": "<div>\n<style scoped>\n    .dataframe tbody tr th:only-of-type {\n        vertical-align: middle;\n    }\n\n    .dataframe tbody tr th {\n        vertical-align: top;\n    }\n\n    .dataframe thead th {\n        text-align: right;\n    }\n</style>\n<table border=\"1\" class=\"dataframe\">\n  <thead>\n    <tr style=\"text-align: right;\">\n      <th></th>\n      <th>ano_letivo</th>\n      <th>ano_curricular</th>\n      <th>nuts_II</th>\n      <th>nivel_ensino</th>\n      <th>curso</th>\n      <th>setor</th>\n      <th>resultado</th>\n      <th>#estudantes</th>\n    </tr>\n  </thead>\n  <tbody>\n    <tr>\n      <th>0</th>\n      <td>2008</td>\n      <td>1</td>\n      <td>A.M. Lisboa</td>\n      <td>Ensino básico</td>\n      <td>Cursos gerais</td>\n      <td>Privado</td>\n      <td>abandona</td>\n      <td>1032</td>\n    </tr>\n    <tr>\n      <th>1</th>\n      <td>2008</td>\n      <td>1</td>\n      <td>A.M. Lisboa</td>\n      <td>Ensino básico</td>\n      <td>Cursos gerais</td>\n      <td>Privado</td>\n      <td>retido</td>\n      <td>43</td>\n    </tr>\n    <tr>\n      <th>2</th>\n      <td>2008</td>\n      <td>1</td>\n      <td>A.M. Lisboa</td>\n      <td>Ensino básico</td>\n      <td>Cursos gerais</td>\n      <td>Privado</td>\n      <td>transita</td>\n      <td>5303</td>\n    </tr>\n    <tr>\n      <th>3</th>\n      <td>2008</td>\n      <td>1</td>\n      <td>A.M. Lisboa</td>\n      <td>Ensino básico</td>\n      <td>Cursos gerais</td>\n      <td>Público</td>\n      <td>abandona</td>\n      <td>1773</td>\n    </tr>\n    <tr>\n      <th>4</th>\n      <td>2008</td>\n      <td>1</td>\n      <td>A.M. Lisboa</td>\n      <td>Ensino básico</td>\n      <td>Cursos gerais</td>\n      <td>Público</td>\n      <td>retido</td>\n      <td>280</td>\n    </tr>\n  </tbody>\n</table>\n</div>"
     },
     "execution_count": 6,
     "metadata": {},
     "output_type": "execute_result"
    }
   ],
   "source": [
    "# Display the first few rows of the dataset\n",
    "print(\"Sample of the dataset:\")\n",
    "df.head()"
   ],
   "metadata": {
    "collapsed": false,
    "ExecuteTime": {
     "end_time": "2024-02-04T15:01:18.238603Z",
     "start_time": "2024-02-04T15:01:18.224851Z"
    }
   },
   "id": "543a0e201fadafd9",
   "execution_count": 6
  },
  {
   "cell_type": "code",
   "outputs": [
    {
     "name": "stdout",
     "output_type": "stream",
     "text": [
      "\n",
      "Missing values in the dataset:\n"
     ]
    },
    {
     "data": {
      "text/plain": "ano_letivo        0\nano_curricular    0\nnuts_II           0\nnivel_ensino      0\ncurso             0\nsetor             0\nresultado         0\n#estudantes       0\ndtype: int64"
     },
     "metadata": {},
     "output_type": "display_data"
    }
   ],
   "source": [
    "# Check for missing values\n",
    "print(\"\\nMissing values in the dataset:\")\n",
    "display(df.isnull().sum())"
   ],
   "metadata": {
    "collapsed": false,
    "ExecuteTime": {
     "end_time": "2024-02-04T15:01:43.795358Z",
     "start_time": "2024-02-04T15:01:43.776345Z"
    }
   },
   "id": "fa8db1bce3769eb6",
   "execution_count": 7
  },
  {
   "cell_type": "code",
   "outputs": [
    {
     "name": "stdout",
     "output_type": "stream",
     "text": [
      "\n",
      "Summary statistics:\n"
     ]
    },
    {
     "data": {
      "text/plain": "        ano_letivo  ano_curricular   #estudantes\ncount  5871.000000     5871.000000   5871.000000\nmean   2013.167774        7.337932   2832.696985\nstd       3.300708        3.348969   5872.984546\nmin    2008.000000        1.000000     11.000000\n25%    2010.000000        5.000000    141.000000\n50%    2013.000000        8.000000    567.000000\n75%    2016.000000       10.000000   2652.500000\nmax    2019.000000       12.000000  38793.000000",
      "text/html": "<div>\n<style scoped>\n    .dataframe tbody tr th:only-of-type {\n        vertical-align: middle;\n    }\n\n    .dataframe tbody tr th {\n        vertical-align: top;\n    }\n\n    .dataframe thead th {\n        text-align: right;\n    }\n</style>\n<table border=\"1\" class=\"dataframe\">\n  <thead>\n    <tr style=\"text-align: right;\">\n      <th></th>\n      <th>ano_letivo</th>\n      <th>ano_curricular</th>\n      <th>#estudantes</th>\n    </tr>\n  </thead>\n  <tbody>\n    <tr>\n      <th>count</th>\n      <td>5871.000000</td>\n      <td>5871.000000</td>\n      <td>5871.000000</td>\n    </tr>\n    <tr>\n      <th>mean</th>\n      <td>2013.167774</td>\n      <td>7.337932</td>\n      <td>2832.696985</td>\n    </tr>\n    <tr>\n      <th>std</th>\n      <td>3.300708</td>\n      <td>3.348969</td>\n      <td>5872.984546</td>\n    </tr>\n    <tr>\n      <th>min</th>\n      <td>2008.000000</td>\n      <td>1.000000</td>\n      <td>11.000000</td>\n    </tr>\n    <tr>\n      <th>25%</th>\n      <td>2010.000000</td>\n      <td>5.000000</td>\n      <td>141.000000</td>\n    </tr>\n    <tr>\n      <th>50%</th>\n      <td>2013.000000</td>\n      <td>8.000000</td>\n      <td>567.000000</td>\n    </tr>\n    <tr>\n      <th>75%</th>\n      <td>2016.000000</td>\n      <td>10.000000</td>\n      <td>2652.500000</td>\n    </tr>\n    <tr>\n      <th>max</th>\n      <td>2019.000000</td>\n      <td>12.000000</td>\n      <td>38793.000000</td>\n    </tr>\n  </tbody>\n</table>\n</div>"
     },
     "metadata": {},
     "output_type": "display_data"
    }
   ],
   "source": [
    "# Summary statistics for numerical columns\n",
    "print(\"\\nSummary statistics:\")\n",
    "display(df.describe())"
   ],
   "metadata": {
    "collapsed": false,
    "ExecuteTime": {
     "end_time": "2024-02-04T15:01:53.094764Z",
     "start_time": "2024-02-04T15:01:53.080542Z"
    }
   },
   "id": "34abf1b826fa4a64",
   "execution_count": 8
  },
  {
   "cell_type": "markdown",
   "source": [],
   "metadata": {
    "collapsed": false
   },
   "id": "80137377d7f1daeb"
  },
  {
   "cell_type": "code",
   "outputs": [],
   "source": [
    "# Convert the 'ano_letivo' column to a range format (e.g., 2008-2009)\n",
    "df['academic_year'] = df['ano_letivo'].astype(str) + '-' + (df['ano_letivo'] + 1).astype(str)"
   ],
   "metadata": {
    "collapsed": false,
    "ExecuteTime": {
     "end_time": "2024-02-04T15:03:14.184334Z",
     "start_time": "2024-02-04T15:03:14.175955Z"
    }
   },
   "id": "fa3cfd07e3f668a2",
   "execution_count": 9
  },
  {
   "cell_type": "code",
   "outputs": [
    {
     "data": {
      "text/plain": "   ano_letivo  ano_curricular      nuts_II   nivel_ensino          curso  \\\n0        2008               1  A.M. Lisboa  Ensino básico  Cursos gerais   \n1        2008               1  A.M. Lisboa  Ensino básico  Cursos gerais   \n2        2008               1  A.M. Lisboa  Ensino básico  Cursos gerais   \n3        2008               1  A.M. Lisboa  Ensino básico  Cursos gerais   \n4        2008               1  A.M. Lisboa  Ensino básico  Cursos gerais   \n\n     setor resultado  #estudantes academic_year  \n0  Privado  abandona         1032     2008-2009  \n1  Privado    retido           43     2008-2009  \n2  Privado  transita         5303     2008-2009  \n3  Público  abandona         1773     2008-2009  \n4  Público    retido          280     2008-2009  ",
      "text/html": "<div>\n<style scoped>\n    .dataframe tbody tr th:only-of-type {\n        vertical-align: middle;\n    }\n\n    .dataframe tbody tr th {\n        vertical-align: top;\n    }\n\n    .dataframe thead th {\n        text-align: right;\n    }\n</style>\n<table border=\"1\" class=\"dataframe\">\n  <thead>\n    <tr style=\"text-align: right;\">\n      <th></th>\n      <th>ano_letivo</th>\n      <th>ano_curricular</th>\n      <th>nuts_II</th>\n      <th>nivel_ensino</th>\n      <th>curso</th>\n      <th>setor</th>\n      <th>resultado</th>\n      <th>#estudantes</th>\n      <th>academic_year</th>\n    </tr>\n  </thead>\n  <tbody>\n    <tr>\n      <th>0</th>\n      <td>2008</td>\n      <td>1</td>\n      <td>A.M. Lisboa</td>\n      <td>Ensino básico</td>\n      <td>Cursos gerais</td>\n      <td>Privado</td>\n      <td>abandona</td>\n      <td>1032</td>\n      <td>2008-2009</td>\n    </tr>\n    <tr>\n      <th>1</th>\n      <td>2008</td>\n      <td>1</td>\n      <td>A.M. Lisboa</td>\n      <td>Ensino básico</td>\n      <td>Cursos gerais</td>\n      <td>Privado</td>\n      <td>retido</td>\n      <td>43</td>\n      <td>2008-2009</td>\n    </tr>\n    <tr>\n      <th>2</th>\n      <td>2008</td>\n      <td>1</td>\n      <td>A.M. Lisboa</td>\n      <td>Ensino básico</td>\n      <td>Cursos gerais</td>\n      <td>Privado</td>\n      <td>transita</td>\n      <td>5303</td>\n      <td>2008-2009</td>\n    </tr>\n    <tr>\n      <th>3</th>\n      <td>2008</td>\n      <td>1</td>\n      <td>A.M. Lisboa</td>\n      <td>Ensino básico</td>\n      <td>Cursos gerais</td>\n      <td>Público</td>\n      <td>abandona</td>\n      <td>1773</td>\n      <td>2008-2009</td>\n    </tr>\n    <tr>\n      <th>4</th>\n      <td>2008</td>\n      <td>1</td>\n      <td>A.M. Lisboa</td>\n      <td>Ensino básico</td>\n      <td>Cursos gerais</td>\n      <td>Público</td>\n      <td>retido</td>\n      <td>280</td>\n      <td>2008-2009</td>\n    </tr>\n  </tbody>\n</table>\n</div>"
     },
     "execution_count": 11,
     "metadata": {},
     "output_type": "execute_result"
    }
   ],
   "source": [
    "df.head()"
   ],
   "metadata": {
    "collapsed": false,
    "ExecuteTime": {
     "end_time": "2024-02-04T15:03:50.265365Z",
     "start_time": "2024-02-04T15:03:50.258156Z"
    }
   },
   "id": "6684d77a4c992622",
   "execution_count": 11
  },
  {
   "cell_type": "markdown",
   "source": [],
   "metadata": {
    "collapsed": false
   },
   "id": "c3f347cbc41e4365"
  },
  {
   "cell_type": "markdown",
   "source": [
    "## BI Questions"
   ],
   "metadata": {
    "collapsed": false
   },
   "id": "aa2d76a7028c1b3e"
  },
  {
   "cell_type": "markdown",
   "source": [
    "### 1. What are the outcomes in the public sector versus the private sector?\n",
    "We count how many students fall into different outcome categories (like 'abandon,' 'retained,' or 'progressed') within each sector (public and private). This gives us a clear picture of the distribution of outcomes for students in both types of schools."
   ],
   "metadata": {
    "collapsed": false
   },
   "id": "32f3ee823b72b62"
  },
  {
   "cell_type": "code",
   "outputs": [
    {
     "name": "stdout",
     "output_type": "stream",
     "text": [
      "\n",
      "Outcomes in Public Sector vs. Private Sector:\n"
     ]
    },
    {
     "data": {
      "text/plain": "     setor resultado  Count\n0  Privado  abandona    992\n1  Privado    retido    652\n2  Privado  transita   1004\n3  Público  abandona   1125\n4  Público    retido    998\n5  Público  transita   1100",
      "text/html": "<div>\n<style scoped>\n    .dataframe tbody tr th:only-of-type {\n        vertical-align: middle;\n    }\n\n    .dataframe tbody tr th {\n        vertical-align: top;\n    }\n\n    .dataframe thead th {\n        text-align: right;\n    }\n</style>\n<table border=\"1\" class=\"dataframe\">\n  <thead>\n    <tr style=\"text-align: right;\">\n      <th></th>\n      <th>setor</th>\n      <th>resultado</th>\n      <th>Count</th>\n    </tr>\n  </thead>\n  <tbody>\n    <tr>\n      <th>0</th>\n      <td>Privado</td>\n      <td>abandona</td>\n      <td>992</td>\n    </tr>\n    <tr>\n      <th>1</th>\n      <td>Privado</td>\n      <td>retido</td>\n      <td>652</td>\n    </tr>\n    <tr>\n      <th>2</th>\n      <td>Privado</td>\n      <td>transita</td>\n      <td>1004</td>\n    </tr>\n    <tr>\n      <th>3</th>\n      <td>Público</td>\n      <td>abandona</td>\n      <td>1125</td>\n    </tr>\n    <tr>\n      <th>4</th>\n      <td>Público</td>\n      <td>retido</td>\n      <td>998</td>\n    </tr>\n    <tr>\n      <th>5</th>\n      <td>Público</td>\n      <td>transita</td>\n      <td>1100</td>\n    </tr>\n  </tbody>\n</table>\n</div>"
     },
     "metadata": {},
     "output_type": "display_data"
    }
   ],
   "source": [
    "# 1. Outcomes in Public Sector vs. Private Sector\n",
    "outcome_by_sector = df.groupby(['setor', 'resultado']).size().reset_index(name='Count')\n",
    "print(\"\\nOutcomes in Public Sector vs. Private Sector:\")\n",
    "display(outcome_by_sector)"
   ],
   "metadata": {
    "collapsed": false,
    "ExecuteTime": {
     "end_time": "2024-02-04T15:15:25.613331Z",
     "start_time": "2024-02-04T15:15:25.604126Z"
    }
   },
   "id": "88be5146d96ccfe6",
   "execution_count": 15
  },
  {
   "cell_type": "markdown",
   "source": [
    "### 2. What is the success percentage in different NUTS II regions?\n",
    "Group the data by NUTS II region and Outcome to analyze the success percentage.\n",
    "Calculate the success percentage by dividing the count of each outcome by the total count for each NUTS II region."
   ],
   "metadata": {
    "collapsed": false
   },
   "id": "f8f0e20bfcb24858"
  },
  {
   "cell_type": "code",
   "outputs": [
    {
     "name": "stdout",
     "output_type": "stream",
     "text": [
      "\n",
      "Success Percentage in Different NUTS II Regions:\n"
     ]
    },
    {
     "data": {
      "text/plain": "        nuts_II resultado  SuccessPercentage\n0   A.M. Lisboa  abandona           0.348782\n1   A.M. Lisboa    retido           0.298507\n2   A.M. Lisboa  transita           0.352710\n3      Alentejo  abandona           0.354008\n4      Alentejo    retido           0.284351\n5      Alentejo  transita           0.361641\n6       Algarve  abandona           0.394659\n7       Algarve    retido           0.230465\n8       Algarve  transita           0.374876\n9        Centro  abandona           0.364524\n10       Centro    retido           0.295362\n11       Centro  transita           0.340114\n12        Norte  abandona           0.347328\n13        Norte    retido           0.287023\n14        Norte  transita           0.365649",
      "text/html": "<div>\n<style scoped>\n    .dataframe tbody tr th:only-of-type {\n        vertical-align: middle;\n    }\n\n    .dataframe tbody tr th {\n        vertical-align: top;\n    }\n\n    .dataframe thead th {\n        text-align: right;\n    }\n</style>\n<table border=\"1\" class=\"dataframe\">\n  <thead>\n    <tr style=\"text-align: right;\">\n      <th></th>\n      <th>nuts_II</th>\n      <th>resultado</th>\n      <th>SuccessPercentage</th>\n    </tr>\n  </thead>\n  <tbody>\n    <tr>\n      <th>0</th>\n      <td>A.M. Lisboa</td>\n      <td>abandona</td>\n      <td>0.348782</td>\n    </tr>\n    <tr>\n      <th>1</th>\n      <td>A.M. Lisboa</td>\n      <td>retido</td>\n      <td>0.298507</td>\n    </tr>\n    <tr>\n      <th>2</th>\n      <td>A.M. Lisboa</td>\n      <td>transita</td>\n      <td>0.352710</td>\n    </tr>\n    <tr>\n      <th>3</th>\n      <td>Alentejo</td>\n      <td>abandona</td>\n      <td>0.354008</td>\n    </tr>\n    <tr>\n      <th>4</th>\n      <td>Alentejo</td>\n      <td>retido</td>\n      <td>0.284351</td>\n    </tr>\n    <tr>\n      <th>5</th>\n      <td>Alentejo</td>\n      <td>transita</td>\n      <td>0.361641</td>\n    </tr>\n    <tr>\n      <th>6</th>\n      <td>Algarve</td>\n      <td>abandona</td>\n      <td>0.394659</td>\n    </tr>\n    <tr>\n      <th>7</th>\n      <td>Algarve</td>\n      <td>retido</td>\n      <td>0.230465</td>\n    </tr>\n    <tr>\n      <th>8</th>\n      <td>Algarve</td>\n      <td>transita</td>\n      <td>0.374876</td>\n    </tr>\n    <tr>\n      <th>9</th>\n      <td>Centro</td>\n      <td>abandona</td>\n      <td>0.364524</td>\n    </tr>\n    <tr>\n      <th>10</th>\n      <td>Centro</td>\n      <td>retido</td>\n      <td>0.295362</td>\n    </tr>\n    <tr>\n      <th>11</th>\n      <td>Centro</td>\n      <td>transita</td>\n      <td>0.340114</td>\n    </tr>\n    <tr>\n      <th>12</th>\n      <td>Norte</td>\n      <td>abandona</td>\n      <td>0.347328</td>\n    </tr>\n    <tr>\n      <th>13</th>\n      <td>Norte</td>\n      <td>retido</td>\n      <td>0.287023</td>\n    </tr>\n    <tr>\n      <th>14</th>\n      <td>Norte</td>\n      <td>transita</td>\n      <td>0.365649</td>\n    </tr>\n  </tbody>\n</table>\n</div>"
     },
     "metadata": {},
     "output_type": "display_data"
    }
   ],
   "source": [
    "# Group by NUTS II region and Outcome, calculate success percentage\n",
    "success_percentage_by_region = df.groupby(['nuts_II', 'resultado']).size() / df.groupby('nuts_II').size()\n",
    "success_percentage_by_region = success_percentage_by_region.reset_index(name='SuccessPercentage')\n",
    "\n",
    "# Display the success percentage by region\n",
    "print(\"\\nSuccess Percentage in Different NUTS II Regions:\")\n",
    "display(success_percentage_by_region)"
   ],
   "metadata": {
    "collapsed": false,
    "ExecuteTime": {
     "end_time": "2024-02-04T15:39:25.855413Z",
     "start_time": "2024-02-04T15:39:25.834095Z"
    }
   },
   "id": "3f291a5a89e216",
   "execution_count": 16
  },
  {
   "cell_type": "code",
   "outputs": [
    {
     "data": {
      "text/plain": "array(['Cursos gerais', 'Outros', 'Cursos científico-humanísticos'],\n      dtype=object)"
     },
     "execution_count": 22,
     "metadata": {},
     "output_type": "execute_result"
    }
   ],
   "source": [
    "df['curso'].unique()"
   ],
   "metadata": {
    "collapsed": false,
    "ExecuteTime": {
     "end_time": "2024-02-04T18:23:42.335106Z",
     "start_time": "2024-02-04T18:23:42.327441Z"
    }
   },
   "id": "b33487d1d7a3677d",
   "execution_count": 22
  },
  {
   "cell_type": "code",
   "outputs": [],
   "source": [
    "# Filter data for General courses (B), Scientific-humanistic courses (S), and others\n",
    "filtered_courses = df[df['curso'].isin(['Cursos gerais', 'Cursos científico-humanísticos', 'Outros'])]"
   ],
   "metadata": {
    "collapsed": false,
    "ExecuteTime": {
     "end_time": "2024-02-04T18:24:27.419485Z",
     "start_time": "2024-02-04T18:24:27.409064Z"
    }
   },
   "id": "699ae5ca30d5cee2",
   "execution_count": 23
  },
  {
   "cell_type": "code",
   "outputs": [
    {
     "data": {
      "text/plain": "      ano_letivo  ano_curricular      nuts_II       nivel_ensino  \\\n0           2008               1  A.M. Lisboa      Ensino básico   \n1           2008               1  A.M. Lisboa      Ensino básico   \n2           2008               1  A.M. Lisboa      Ensino básico   \n3           2008               1  A.M. Lisboa      Ensino básico   \n4           2008               1  A.M. Lisboa      Ensino básico   \n...          ...             ...          ...                ...   \n5866        2019              12        Norte  Ensino secundário   \n5867        2019              12        Norte  Ensino secundário   \n5868        2019              12        Norte  Ensino secundário   \n5869        2019              12        Norte  Ensino secundário   \n5870        2019              12        Norte  Ensino secundário   \n\n                               curso    setor resultado  #estudantes  \\\n0                      Cursos gerais  Privado  abandona         1032   \n1                      Cursos gerais  Privado    retido           43   \n2                      Cursos gerais  Privado  transita         5303   \n3                      Cursos gerais  Público  abandona         1773   \n4                      Cursos gerais  Público    retido          280   \n...                              ...      ...       ...          ...   \n5866  Cursos científico-humanísticos  Público  transita        17262   \n5867                          Outros  Privado  abandona         3121   \n5868                          Outros  Privado  transita         8912   \n5869                          Outros  Público  abandona         7351   \n5870                          Outros  Público  transita        12179   \n\n     academic_year  \n0        2008-2009  \n1        2008-2009  \n2        2008-2009  \n3        2008-2009  \n4        2008-2009  \n...            ...  \n5866     2019-2020  \n5867     2019-2020  \n5868     2019-2020  \n5869     2019-2020  \n5870     2019-2020  \n\n[5871 rows x 9 columns]",
      "text/html": "<div>\n<style scoped>\n    .dataframe tbody tr th:only-of-type {\n        vertical-align: middle;\n    }\n\n    .dataframe tbody tr th {\n        vertical-align: top;\n    }\n\n    .dataframe thead th {\n        text-align: right;\n    }\n</style>\n<table border=\"1\" class=\"dataframe\">\n  <thead>\n    <tr style=\"text-align: right;\">\n      <th></th>\n      <th>ano_letivo</th>\n      <th>ano_curricular</th>\n      <th>nuts_II</th>\n      <th>nivel_ensino</th>\n      <th>curso</th>\n      <th>setor</th>\n      <th>resultado</th>\n      <th>#estudantes</th>\n      <th>academic_year</th>\n    </tr>\n  </thead>\n  <tbody>\n    <tr>\n      <th>0</th>\n      <td>2008</td>\n      <td>1</td>\n      <td>A.M. Lisboa</td>\n      <td>Ensino básico</td>\n      <td>Cursos gerais</td>\n      <td>Privado</td>\n      <td>abandona</td>\n      <td>1032</td>\n      <td>2008-2009</td>\n    </tr>\n    <tr>\n      <th>1</th>\n      <td>2008</td>\n      <td>1</td>\n      <td>A.M. Lisboa</td>\n      <td>Ensino básico</td>\n      <td>Cursos gerais</td>\n      <td>Privado</td>\n      <td>retido</td>\n      <td>43</td>\n      <td>2008-2009</td>\n    </tr>\n    <tr>\n      <th>2</th>\n      <td>2008</td>\n      <td>1</td>\n      <td>A.M. Lisboa</td>\n      <td>Ensino básico</td>\n      <td>Cursos gerais</td>\n      <td>Privado</td>\n      <td>transita</td>\n      <td>5303</td>\n      <td>2008-2009</td>\n    </tr>\n    <tr>\n      <th>3</th>\n      <td>2008</td>\n      <td>1</td>\n      <td>A.M. Lisboa</td>\n      <td>Ensino básico</td>\n      <td>Cursos gerais</td>\n      <td>Público</td>\n      <td>abandona</td>\n      <td>1773</td>\n      <td>2008-2009</td>\n    </tr>\n    <tr>\n      <th>4</th>\n      <td>2008</td>\n      <td>1</td>\n      <td>A.M. Lisboa</td>\n      <td>Ensino básico</td>\n      <td>Cursos gerais</td>\n      <td>Público</td>\n      <td>retido</td>\n      <td>280</td>\n      <td>2008-2009</td>\n    </tr>\n    <tr>\n      <th>...</th>\n      <td>...</td>\n      <td>...</td>\n      <td>...</td>\n      <td>...</td>\n      <td>...</td>\n      <td>...</td>\n      <td>...</td>\n      <td>...</td>\n      <td>...</td>\n    </tr>\n    <tr>\n      <th>5866</th>\n      <td>2019</td>\n      <td>12</td>\n      <td>Norte</td>\n      <td>Ensino secundário</td>\n      <td>Cursos científico-humanísticos</td>\n      <td>Público</td>\n      <td>transita</td>\n      <td>17262</td>\n      <td>2019-2020</td>\n    </tr>\n    <tr>\n      <th>5867</th>\n      <td>2019</td>\n      <td>12</td>\n      <td>Norte</td>\n      <td>Ensino secundário</td>\n      <td>Outros</td>\n      <td>Privado</td>\n      <td>abandona</td>\n      <td>3121</td>\n      <td>2019-2020</td>\n    </tr>\n    <tr>\n      <th>5868</th>\n      <td>2019</td>\n      <td>12</td>\n      <td>Norte</td>\n      <td>Ensino secundário</td>\n      <td>Outros</td>\n      <td>Privado</td>\n      <td>transita</td>\n      <td>8912</td>\n      <td>2019-2020</td>\n    </tr>\n    <tr>\n      <th>5869</th>\n      <td>2019</td>\n      <td>12</td>\n      <td>Norte</td>\n      <td>Ensino secundário</td>\n      <td>Outros</td>\n      <td>Público</td>\n      <td>abandona</td>\n      <td>7351</td>\n      <td>2019-2020</td>\n    </tr>\n    <tr>\n      <th>5870</th>\n      <td>2019</td>\n      <td>12</td>\n      <td>Norte</td>\n      <td>Ensino secundário</td>\n      <td>Outros</td>\n      <td>Público</td>\n      <td>transita</td>\n      <td>12179</td>\n      <td>2019-2020</td>\n    </tr>\n  </tbody>\n</table>\n<p>5871 rows × 9 columns</p>\n</div>"
     },
     "execution_count": 24,
     "metadata": {},
     "output_type": "execute_result"
    }
   ],
   "source": [
    "filtered_courses"
   ],
   "metadata": {
    "collapsed": false,
    "ExecuteTime": {
     "end_time": "2024-02-04T18:24:27.967020Z",
     "start_time": "2024-02-04T18:24:27.958139Z"
    }
   },
   "id": "278eb5b326cb7573",
   "execution_count": 24
  },
  {
   "cell_type": "code",
   "outputs": [],
   "source": [
    "# Group by academic year and course, calculate the number of students\n",
    "enrolled_students_evolution = filtered_courses.groupby(['academic_year', 'curso']).agg({'#estudantes': 'sum'}).reset_index()"
   ],
   "metadata": {
    "collapsed": false,
    "ExecuteTime": {
     "end_time": "2024-02-04T18:24:31.733074Z",
     "start_time": "2024-02-04T18:24:31.725131Z"
    }
   },
   "id": "b4c7f53a57d4c955",
   "execution_count": 25
  },
  {
   "cell_type": "code",
   "outputs": [],
   "source": [
    "# Pivot the table for better visualization\n",
    "pivot_table = enrolled_students_evolution.pivot(index='academic_year', columns='curso', values='#estudantes')"
   ],
   "metadata": {
    "collapsed": false,
    "ExecuteTime": {
     "end_time": "2024-02-04T18:24:32.479217Z",
     "start_time": "2024-02-04T18:24:32.473828Z"
    }
   },
   "id": "ac707ce5901f80ec",
   "execution_count": 26
  },
  {
   "cell_type": "code",
   "outputs": [
    {
     "data": {
      "text/plain": "curso          Cursos científico-humanísticos  Cursos gerais  Outros\nacademic_year                                                       \n2008-2009                              182566        1003862  391891\n2009-2010                              185993        1003646  362369\n2010-2011                              186345         996609  305993\n2011-2012                              187436         984167  265140\n2012-2013                              189619         971086  228758\n2013-2014                              189582         945935  215886\n2014-2015                              192689         922069  232213\n2015-2016                              195193         897235  224936\n2016-2017                              196555         891249  226771\n2017-2018                              193873         882935  225703\n2018-2019                              196520         870949  218525\n2019-2020                              196112         864784  205570",
      "text/html": "<div>\n<style scoped>\n    .dataframe tbody tr th:only-of-type {\n        vertical-align: middle;\n    }\n\n    .dataframe tbody tr th {\n        vertical-align: top;\n    }\n\n    .dataframe thead th {\n        text-align: right;\n    }\n</style>\n<table border=\"1\" class=\"dataframe\">\n  <thead>\n    <tr style=\"text-align: right;\">\n      <th>curso</th>\n      <th>Cursos científico-humanísticos</th>\n      <th>Cursos gerais</th>\n      <th>Outros</th>\n    </tr>\n    <tr>\n      <th>academic_year</th>\n      <th></th>\n      <th></th>\n      <th></th>\n    </tr>\n  </thead>\n  <tbody>\n    <tr>\n      <th>2008-2009</th>\n      <td>182566</td>\n      <td>1003862</td>\n      <td>391891</td>\n    </tr>\n    <tr>\n      <th>2009-2010</th>\n      <td>185993</td>\n      <td>1003646</td>\n      <td>362369</td>\n    </tr>\n    <tr>\n      <th>2010-2011</th>\n      <td>186345</td>\n      <td>996609</td>\n      <td>305993</td>\n    </tr>\n    <tr>\n      <th>2011-2012</th>\n      <td>187436</td>\n      <td>984167</td>\n      <td>265140</td>\n    </tr>\n    <tr>\n      <th>2012-2013</th>\n      <td>189619</td>\n      <td>971086</td>\n      <td>228758</td>\n    </tr>\n    <tr>\n      <th>2013-2014</th>\n      <td>189582</td>\n      <td>945935</td>\n      <td>215886</td>\n    </tr>\n    <tr>\n      <th>2014-2015</th>\n      <td>192689</td>\n      <td>922069</td>\n      <td>232213</td>\n    </tr>\n    <tr>\n      <th>2015-2016</th>\n      <td>195193</td>\n      <td>897235</td>\n      <td>224936</td>\n    </tr>\n    <tr>\n      <th>2016-2017</th>\n      <td>196555</td>\n      <td>891249</td>\n      <td>226771</td>\n    </tr>\n    <tr>\n      <th>2017-2018</th>\n      <td>193873</td>\n      <td>882935</td>\n      <td>225703</td>\n    </tr>\n    <tr>\n      <th>2018-2019</th>\n      <td>196520</td>\n      <td>870949</td>\n      <td>218525</td>\n    </tr>\n    <tr>\n      <th>2019-2020</th>\n      <td>196112</td>\n      <td>864784</td>\n      <td>205570</td>\n    </tr>\n  </tbody>\n</table>\n</div>"
     },
     "execution_count": 28,
     "metadata": {},
     "output_type": "execute_result"
    }
   ],
   "source": [
    "pivot_table"
   ],
   "metadata": {
    "collapsed": false,
    "ExecuteTime": {
     "end_time": "2024-02-04T18:25:28.007172Z",
     "start_time": "2024-02-04T18:25:27.998472Z"
    }
   },
   "id": "ada79a848b45edf9",
   "execution_count": 28
  },
  {
   "cell_type": "code",
   "outputs": [
    {
     "data": {
      "text/plain": "<Figure size 1200x600 with 0 Axes>"
     },
     "metadata": {},
     "output_type": "display_data"
    },
    {
     "data": {
      "text/plain": "<Figure size 640x480 with 1 Axes>",
      "image/png": "[encoded data removed]"
     },
     "metadata": {},
     "output_type": "display_data"
    }
   ],
   "source": [
    "# Plot the evolution of enrolled students in different courses using a stacked area plot\n",
    "plt.figure(figsize=(12, 6))\n",
    "pivot_table.plot(kind='area', stacked=True, colormap='viridis', alpha=0.7)\n",
    "\n",
    "# Customize the plot\n",
    "plt.title('Evolution of Enrolled Students in Different Courses')\n",
    "plt.xlabel('Academic Year')\n",
    "plt.ylabel('Number of Students')\n",
    "plt.legend(title='Course')\n",
    "plt.grid(True)\n",
    "\n",
    "# Adjust the position of the years on the x-axis\n",
    "plt.xticks(range(len(pivot_table.index)), pivot_table.index, rotation=45, ha='right')\n",
    "\n",
    "plt.show()\n"
   ],
   "metadata": {
    "collapsed": false,
    "ExecuteTime": {
     "end_time": "2024-02-04T18:35:53.511823Z",
     "start_time": "2024-02-04T18:35:53.344885Z"
    }
   },
   "id": "707a868fbcdf7991",
   "execution_count": 30
  },
  {
   "cell_type": "code",
   "outputs": [],
   "source": [],
   "metadata": {
    "collapsed": false
   },
   "id": "9f0769e30c5bf81f"
  }
 ],
 "metadata": {
  "kernelspec": {
   "display_name": "Python 3",
   "language": "python",
   "name": "python3"
  },
  "language_info": {
   "codemirror_mode": {
    "name": "ipython",
    "version": 2
   },
   "file_extension": ".py",
   "mimetype": "text/x-python",
   "name": "python",
   "nbconvert_exporter": "python",
   "pygments_lexer": "ipython2",
   "version": "2.7.6"
  }
 },
 "nbformat": 4,
 "nbformat_minor": 5
}
